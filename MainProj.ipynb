{
 "cells": [
  {
   "cell_type": "code",
   "execution_count": 2,
   "id": "b37c070d",
   "metadata": {},
   "outputs": [],
   "source": [
    "import pandas as pd\n",
    "import bs4\n",
    "from bs4 import BeautifulSoup\n",
    "import scipy as sc\n",
    "import numpy as np"
   ]
  },
  {
   "cell_type": "code",
   "execution_count": 2,
   "id": "c1b29045",
   "metadata": {},
   "outputs": [],
   "source": [
    "def load_soup_object(html_file_name):\n",
    "    url=\"./data/\"+(html_file_name)\n",
    "    html=open(url)\n",
    "    soup=BeautifulSoup(html,'html.parser')\n",
    "    return soup"
   ]
  },
  {
   "cell_type": "code",
   "execution_count": 6,
   "id": "7fcd615f",
   "metadata": {},
   "outputs": [],
   "source": [
    "#crawling to Israel 365 News\n",
    "#starting with list of all links from the website\n",
    "urls=list()\n",
    "soup=load_soup_object('https://www.israel365news.com/israel-news/')\n",
    "articles=soup('h1',attrs={\"class\":\"elementor-heading-title elementor-size-default\"})\n",
    "for article in articles:\n",
    "    if max_articles<=0: \n",
    "        break\n",
    "    a=row.find('a')\n",
    "    try:\n",
    "        if 'href' in a.attrs:\n",
    "            url = a.get('href')\n",
    "            urls.append(url)\n",
    "            max_articles-=1\n",
    "    except:\n",
    "        continue"
   ]
  },
  {
   "cell_type": "code",
   "execution_count": 7,
   "id": "3dd4b39d",
   "metadata": {},
   "outputs": [
    {
     "ename": "IndentationError",
     "evalue": "expected an indented block (3604636912.py, line 3)",
     "output_type": "error",
     "traceback": [
      "\u001b[1;36m  File \u001b[1;32m\"C:\\Users\\hadar\\AppData\\Local\\Temp\\ipykernel_6828\\3604636912.py\"\u001b[1;36m, line \u001b[1;32m3\u001b[0m\n\u001b[1;33m    \u001b[0m\n\u001b[1;37m    ^\u001b[0m\n\u001b[1;31mIndentationError\u001b[0m\u001b[1;31m:\u001b[0m expected an indented block\n"
     ]
    }
   ],
   "source": [
    "israel365_links=scrape_Israel365News(5000)\n",
    "with open('israel365news_links.txt','a') as f:\n",
    "    for url in urls:\n",
    "        f.append"
   ]
  },
  {
   "cell_type": "code",
<<<<<<< HEAD
   "execution_count": null,
   "id": "95a2c4c9",
=======
   "execution_count": 3,
   "id": "1ae6d98a",
>>>>>>> b722432c28623959dab604a3514c3653e44bf14c
   "metadata": {},
   "outputs": [
    {
     "name": "stdout",
     "output_type": "stream",
     "text": [
      "hello\n"
     ]
    }
   ],
   "source": [
    "print(\"hello\")"
   ]
  },
  {
   "cell_type": "code",
   "execution_count": null,
   "id": "7fcd615f",
   "metadata": {},
   "outputs": [],
   "source": []
  }
 ],
 "metadata": {
  "kernelspec": {
   "display_name": "Python 3 (ipykernel)",
   "language": "python",
   "name": "python3"
  },
  "language_info": {
   "codemirror_mode": {
    "name": "ipython",
    "version": 3
   },
   "file_extension": ".py",
   "mimetype": "text/x-python",
   "name": "python",
   "nbconvert_exporter": "python",
   "pygments_lexer": "ipython3",
   "version": "3.9.13"
  }
 },
 "nbformat": 4,
 "nbformat_minor": 5
}
