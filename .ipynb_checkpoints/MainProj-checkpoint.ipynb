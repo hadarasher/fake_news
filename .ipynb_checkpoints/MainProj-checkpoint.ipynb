{
 "cells": [
  {
   "cell_type": "code",
   "execution_count": 8,
   "id": "b37c070d",
   "metadata": {},
   "outputs": [],
   "source": [
    "import bs4\n",
    "from bs4 import BeautifulSoup  \n",
    "import pandas as pd\n",
    "import scipy as sc\n",
    "import numpy as np"
   ]
  },
  {
   "cell_type": "code",
   "execution_count": 9,
   "id": "1ae6d98a",
   "metadata": {},
   "outputs": [],
   "source": [
    "def load_soup_object(html_file_name):\n",
    "    url=\"./data/\"+(html_file_name)\n",
    "    html=open(url)\n",
    "    soup=BeautifulSoup(html,'html.parser')\n",
    "    return soup"
   ]
  },
  {
   "cell_type": "code",
   "execution_count": null,
   "id": "7fcd615f",
   "metadata": {},
   "outputs": [],
   "source": [
    "#scapping articles'urls from the website\n",
    "#scrapping from multiple pages with 'loas more button' javascript link\n",
    "urls=list()\n",
    "soup=load_soup_object('https://www.israel365news.com/israel-news/')\n",
    "articles=soup('h1',attrs={\"class\":\"elementor-heading-title elementor-size-default\"})\n",
    "for article in articles:\n",
    "    if max_articles<=0: \n",
    "        break\n",
    "    a=row.find('a')\n",
    "    try:\n",
    "        if 'href' in a.attrs:\n",
    "            url = a.get('href')\n",
    "            urls.append(url)\n",
    "            max_articles-=1\n",
    "    except:\n",
    "        continue"
   ]
  }
 ],
 "metadata": {
  "kernelspec": {
   "display_name": "Python 3 (ipykernel)",
   "language": "python",
   "name": "python3"
  },
  "language_info": {
   "codemirror_mode": {
    "name": "ipython",
    "version": 3
   },
   "file_extension": ".py",
   "mimetype": "text/x-python",
   "name": "python",
   "nbconvert_exporter": "python",
   "pygments_lexer": "ipython3",
   "version": "3.9.13"
  }
 },
 "nbformat": 4,
 "nbformat_minor": 5
}
